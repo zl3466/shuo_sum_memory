{
 "cells": [
  {
   "cell_type": "markdown",
   "id": "2c100c16",
   "metadata": {},
   "source": [
    "# Convert ncs to json\n",
    "\n",
    "修改地址：dirname 进行测试\n",
    "\n",
    "'''\n",
    "{\n",
    "\"CellNumber\":,\n",
    "\"SampleFrequency\":,\n",
    "  \"Number_of_valid_samples\":, \n",
    "   \"Time_data\" : {[Timestamp, Samples],[Timestamp, Samples],...,[Timestamp, Samples]}\n",
    "}\n",
    "'''"
   ]
  },
  {
   "cell_type": "code",
   "execution_count": null,
   "id": "0c910693",
   "metadata": {},
   "outputs": [],
   "source": [
    "import os\n",
    "import json\n",
    "import re\n",
    "from neo.io import NeuralynxIO\n",
    "\n",
    "def convert_ncs_to_json(filename, input_dirname, output_dirname):\n",
    "    full_path = os.path.join(input_dirname, filename)\n",
    "    reader = NeuralynxIO(filename=full_path)\n",
    "    blk = reader.read_block()\n",
    "    seg = blk.segments[0]\n",
    "    signal = seg.analogsignals[0]\n",
    "\n",
    "    timestamps = [(float(t), float(signal.magnitude[i])) for i, t in enumerate(signal.times.rescale('s').magnitude)]\n",
    "    sample_frequency = float(signal.sampling_rate.rescale('Hz').magnitude)\n",
    "    num_valid_samples = int(signal.shape[0])\n",
    "\n",
    "    data_dict = {\n",
    "        \"CellNumber\": re.search(r'CSC(\\d+)_FSI20\\.ncs', filename).group(1),  # Assuming 'CSC<Number>_FSI20.ncs' format\n",
    "#         \"CellNumber\": re.search(r'\\d+', filename),\n",
    "        \"SampleFrequency\": sample_frequency,\n",
    "        \"Number_of_valid_samples\": num_valid_samples,\n",
    "        \"Time_data\": timestamps\n",
    "    }\n",
    "\n",
    "    json_data = json.dumps(data_dict, indent=4)\n",
    "    json_filename = os.path.splitext(filename)[0] + '.json'\n",
    "    json_file_path = os.path.join(output_dirname, json_filename)\n",
    "\n",
    "    if not os.path.exists(output_dirname):\n",
    "        os.makedirs(output_dirname)\n",
    "\n",
    "    with open(json_file_path, 'w') as json_file:\n",
    "        json_file.write(json_data)\n",
    "\n",
    "    print(f\"JSON file created: {json_filename}\")\n",
    "\n",
    "# Directory settings\n",
    "input_dirname = \"/Users/huangjuhua/NYU/MatlabFramework_SampleCode_Data/Tmaze_Data/252-1375/2018-01-07_15-14-54/04_tmaze1\"\n",
    "output_dirname = \"/Users/huangjuhua/NYU/MatlabFramework_SampleCode_Data/Tmaze_Data/252-1375/2018-01-07_15-14-54/04_tmaze1/ncs_json\"\n",
    "\n",
    "# List all .ncs files\n",
    "ncs_file_list = [f for f in os.listdir(input_dirname) if f.endswith('.ncs')]\n",
    "\n",
    "# Process each .ncs file\n",
    "for ncs_file in ncs_file_list:\n",
    "    convert_ncs_to_json(ncs_file, input_dirname, output_dirname)"
   ]
  },
  {
   "cell_type": "markdown",
   "id": "40fccc62",
   "metadata": {},
   "source": [
    "## Read json file example"
   ]
  },
  {
   "cell_type": "code",
   "execution_count": 1,
   "id": "499ba8ea",
   "metadata": {},
   "outputs": [
    {
     "name": "stdout",
     "output_type": "stream",
     "text": [
      "Feature Names: ['CellNumber', 'SampleFrequency', 'Number_of_valid_samples', 'Time_data']\n",
      "CellNumber:\n",
      "6\n",
      "SampleFrequency:\n",
      "1600.0\n",
      "Number_of_valid_samples:\n",
      "5579264\n",
      "Time_data:\n",
      "[[0.0, 84.53627014160156], [0.000625, 81.78960418701172], [0.00125, 81.05716705322266], [0.001875, 55.11642837524414], [0.0025, 41.07791519165039]]\n"
     ]
    }
   ],
   "source": [
    "import json\n",
    "\n",
    "# Specify the path to the JSON file you want to read\n",
    "json_filename = r\"/Users/huangjuhua/NYU/MatlabFramework_SampleCode_Data/Tmaze_Data/252-1375/2018-01-07_15-14-54/04_tmaze1/ncs_json/CSC6_FSI20.json\"\n",
    "\n",
    "# Read the JSON file\n",
    "with open(json_filename, 'r') as file:\n",
    "    data = json.load(file)\n",
    "\n",
    "feature_names = list(data.keys())\n",
    "print(\"Feature Names:\", feature_names)\n",
    "\n",
    "# Display the base information for each key in the JSON file\n",
    "for key, value in data.items():\n",
    "    print(f\"{key}:\")\n",
    "    if isinstance(value, list):\n",
    "        # Print only the first few items if the value is a list\n",
    "        print(value[:5])  # Modify this number based on how many examples you want to see\n",
    "    else:\n",
    "        print(value)"
   ]
  },
  {
   "cell_type": "code",
   "execution_count": null,
   "id": "a754703f",
   "metadata": {},
   "outputs": [],
   "source": []
  },
  {
   "cell_type": "code",
   "execution_count": null,
   "id": "77dc84fc",
   "metadata": {},
   "outputs": [],
   "source": []
  },
  {
   "cell_type": "code",
   "execution_count": null,
   "id": "ccbd69ac",
   "metadata": {},
   "outputs": [],
   "source": []
  }
 ],
 "metadata": {
  "kernelspec": {
   "display_name": "Python 3 (ipykernel)",
   "language": "python",
   "name": "python3"
  },
  "language_info": {
   "codemirror_mode": {
    "name": "ipython",
    "version": 3
   },
   "file_extension": ".py",
   "mimetype": "text/x-python",
   "name": "python",
   "nbconvert_exporter": "python",
   "pygments_lexer": "ipython3",
   "version": "3.11.5"
  }
 },
 "nbformat": 4,
 "nbformat_minor": 5
}
