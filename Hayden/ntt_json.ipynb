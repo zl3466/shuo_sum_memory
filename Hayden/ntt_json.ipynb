{
 "cells": [
  {
   "cell_type": "markdown",
   "id": "89049ef5",
   "metadata": {},
   "source": [
    "# convert ntt_to_json\n",
    "\n",
    "修改地址：dirname 进行测试\n",
    "\n",
    "json Structure: \n",
    "\n",
    "{\"ScNumber\":,\n",
    "  \"CellNumber\":, \n",
    "  \"Params\":, \n",
    "   \"time_data\" : {[Timestamp, Data],[Timestamp, Data],...,[Timestamp, Data]}\n",
    "}\n",
    "\n",
    "{\"TSusec\":, \"Xpos1\":, \"Ypos1\":, \"Ang1\":}"
   ]
  },
  {
   "cell_type": "code",
   "execution_count": 3,
   "id": "11146826",
   "metadata": {},
   "outputs": [
    {
     "name": "stdout",
     "output_type": "stream",
     "text": [
      "Converted cut_TT9.ntt to /Users/huangjuhua/NYU/MatlabFramework_SampleCode_Data/Tmaze_Data/252-1375/2018-01-07_15-14-54/04_tmaze1/ntt_json/cut_TT9.json\n",
      "Converted cut_TT8.ntt to /Users/huangjuhua/NYU/MatlabFramework_SampleCode_Data/Tmaze_Data/252-1375/2018-01-07_15-14-54/04_tmaze1/ntt_json/cut_TT8.json\n",
      "Converted cut_TT10.ntt to /Users/huangjuhua/NYU/MatlabFramework_SampleCode_Data/Tmaze_Data/252-1375/2018-01-07_15-14-54/04_tmaze1/ntt_json/cut_TT10.json\n",
      "Converted cut_TT11.ntt to /Users/huangjuhua/NYU/MatlabFramework_SampleCode_Data/Tmaze_Data/252-1375/2018-01-07_15-14-54/04_tmaze1/ntt_json/cut_TT11.json\n",
      "Converted cut_TT15.ntt to /Users/huangjuhua/NYU/MatlabFramework_SampleCode_Data/Tmaze_Data/252-1375/2018-01-07_15-14-54/04_tmaze1/ntt_json/cut_TT15.json\n",
      "Converted cut_TT5.ntt to /Users/huangjuhua/NYU/MatlabFramework_SampleCode_Data/Tmaze_Data/252-1375/2018-01-07_15-14-54/04_tmaze1/ntt_json/cut_TT5.json\n",
      "Converted cut_TT6.ntt to /Users/huangjuhua/NYU/MatlabFramework_SampleCode_Data/Tmaze_Data/252-1375/2018-01-07_15-14-54/04_tmaze1/ntt_json/cut_TT6.json\n",
      "Converted cut_TT2.ntt to /Users/huangjuhua/NYU/MatlabFramework_SampleCode_Data/Tmaze_Data/252-1375/2018-01-07_15-14-54/04_tmaze1/ntt_json/cut_TT2.json\n"
     ]
    }
   ],
   "source": [
    "import os\n",
    "import re\n",
    "import json\n",
    "from neo.io import NeuralynxIO\n",
    "\n",
    "def convert_ntt_to_json(filename, input_dirname, output_dirname):\n",
    "\n",
    "    # Ensure the output directory exists\n",
    "    os.makedirs(output_dirname, exist_ok=True)\n",
    "\n",
    "    nio = NeuralynxIO(dirname=input_dirname, filename=filename)\n",
    "    block = nio.read_block()\n",
    "    for seg in block.segments:\n",
    "        tetrode_data = seg.spiketrains[0]\n",
    "        timestamps = list(tetrode_data.times.rescale('s').magnitude)  # Convert to seconds\n",
    "\n",
    "        cell_number_match = re.search(r'\\d+', filename)\n",
    "        cell_number = int(cell_number_match.group()) if cell_number_match else None\n",
    "\n",
    "        # Construct \"time_data\" as specified\n",
    "\n",
    "        data = {\n",
    "            \"CellNumber\": cell_number,\n",
    "            \"Params\": {\n",
    "                \"Sample Frequency (Hz)\": float(tetrode_data.sampling_rate.rescale('Hz').magnitude),\n",
    "                \"Number of Valid Samples\": int(tetrode_data.shape[0])\n",
    "            },\n",
    "            \"Timestamps\": timestamps\n",
    "        }\n",
    "\n",
    "        # Save to JSON file in the specified output directory\n",
    "        json_filename = os.path.splitext(os.path.join(output_dirname, filename))[0] + '.json'\n",
    "        with open(json_filename, 'w') as json_file:\n",
    "            json.dump(data, json_file, indent=4)\n",
    "        print(f\"Converted {filename} to {json_filename}\")\n",
    "\n",
    "# Example usage\n",
    "input_dirname = r\"/Users/huangjuhua/NYU/MatlabFramework_SampleCode_Data/Tmaze_Data/252-1375/2018-01-07_15-14-54/04_tmaze1\"\n",
    "output_dirname = r\"/Users/huangjuhua/NYU/MatlabFramework_SampleCode_Data/Tmaze_Data/252-1375/2018-01-07_15-14-54/04_tmaze1/ntt_json\"\n",
    "ntt_file_list = [f for f in os.listdir(input_dirname) if f.endswith('.ntt')]\n",
    "\n",
    "# Process each .NTT file\n",
    "for ntt_file in ntt_file_list:\n",
    "    convert_ntt_to_json(ntt_file, input_dirname, output_dirname)"
   ]
  },
  {
   "cell_type": "markdown",
   "id": "db5aebc9",
   "metadata": {},
   "source": [
    "## Read json file example"
   ]
  },
  {
   "cell_type": "code",
   "execution_count": 4,
   "id": "268383f1",
   "metadata": {},
   "outputs": [
    {
     "name": "stdout",
     "output_type": "stream",
     "text": [
      "Feature Names: ['CellNumber', 'Params', 'Timestamps']\n",
      "CellNumber:\n",
      "2\n",
      "Params:\n",
      "{'Sample Frequency (Hz)': 32000.0, 'Number of Valid Samples': 237220}\n",
      "Timestamps:\n",
      "[0.01143700000102399, 0.023531000000730273, 0.024406000000453787, 0.028156000000308268, 0.032906000000366475]\n"
     ]
    }
   ],
   "source": [
    "import json\n",
    "\n",
    "# Specify the path to the JSON file you want to read\n",
    "json_filename = r\"/Users/huangjuhua/NYU/MatlabFramework_SampleCode_Data/Tmaze_Data/252-1375/2018-01-07_15-14-54/04_tmaze1/ntt_json/cut_TT2.json\"\n",
    "\n",
    "# Read the JSON file\n",
    "with open(json_filename, 'r') as file:\n",
    "    data = json.load(file)\n",
    "\n",
    "feature_names = list(data.keys())\n",
    "print(\"Feature Names:\", feature_names)\n",
    "\n",
    "# Display the base information for each key in the JSON file\n",
    "for key, value in data.items():\n",
    "    print(f\"{key}:\")\n",
    "    if isinstance(value, list):\n",
    "        # Print only the first few items if the value is a list\n",
    "        print(value[:5])  # Modify this number based on how many examples you want to see\n",
    "    else:\n",
    "        print(value)"
   ]
  },
  {
   "cell_type": "markdown",
   "id": "8b6c2a83",
   "metadata": {},
   "source": [
    "# Convert ncs to json\n",
    "\n",
    "修改地址：dirname 进行测试\n",
    "\n",
    "'''\n",
    "{\n",
    "\"CellNumber\":,\n",
    "\"SampleFrequency\":,\n",
    "  \"Number_of_valid_samples\":, \n",
    "   \"Time_data\" : {[Timestamp, Samples],[Timestamp, Samples],...,[Timestamp, Samples]}\n",
    "}\n",
    "'''"
   ]
  },
  {
   "cell_type": "code",
   "execution_count": 2,
   "id": "b66a7d4f",
   "metadata": {},
   "outputs": [
    {
     "name": "stdout",
     "output_type": "stream",
     "text": [
      "JSON file created: CSC6_FSI20.json\n",
      "JSON file created: CSC15_FSI20.json\n",
      "JSON file created: CSC13_FSI20.json\n",
      "JSON file created: CSC7_FSI20.json\n",
      "JSON file created: CSC1_FSI20.json\n",
      "JSON file created: CSC4_FSI20.json\n",
      "JSON file created: CSC9_FSI20.json\n",
      "JSON file created: CSC2_FSI20.json\n",
      "JSON file created: CSC11_FSI20.json\n",
      "JSON file created: CSC5_FSI20.json\n",
      "JSON file created: CSC16_FSI20.json\n",
      "JSON file created: CSC8_FSI20.json\n",
      "JSON file created: CSC10_FSI20.json\n"
     ]
    }
   ],
   "source": [
    "import os\n",
    "import json\n",
    "import re\n",
    "from neo.io import NeuralynxIO\n",
    "\n",
    "def convert_ncs_to_json(filename, input_dirname, output_dirname):\n",
    "    full_path = os.path.join(input_dirname, filename)\n",
    "    reader = NeuralynxIO(filename=full_path)\n",
    "    blk = reader.read_block()\n",
    "    seg = blk.segments[0]\n",
    "    signal = seg.analogsignals[0]\n",
    "\n",
    "    timestamps = [(float(t), float(signal.magnitude[i])) for i, t in enumerate(signal.times.rescale('s').magnitude)]\n",
    "    sample_frequency = float(signal.sampling_rate.rescale('Hz').magnitude)\n",
    "    num_valid_samples = int(signal.shape[0])\n",
    "\n",
    "    data_dict = {\n",
    "        \"CellNumber\": re.search(r'CSC(\\d+)_FSI20\\.ncs', filename).group(1),  # Assuming 'CSC<Number>_FSI20.ncs' format\n",
    "#         \"CellNumber\": re.search(r'\\d+', filename),\n",
    "        \"SampleFrequency\": sample_frequency,\n",
    "        \"Number_of_valid_samples\": num_valid_samples,\n",
    "        \"Time_data\": timestamps\n",
    "    }\n",
    "\n",
    "    json_data = json.dumps(data_dict, indent=4)\n",
    "    json_filename = os.path.splitext(filename)[0] + '.json'\n",
    "    json_file_path = os.path.join(output_dirname, json_filename)\n",
    "\n",
    "    if not os.path.exists(output_dirname):\n",
    "        os.makedirs(output_dirname)\n",
    "\n",
    "    with open(json_file_path, 'w') as json_file:\n",
    "        json_file.write(json_data)\n",
    "\n",
    "    print(f\"JSON file created: {json_filename}\")\n",
    "\n",
    "# Directory settings\n",
    "input_dirname = \"/Users/huangjuhua/NYU/MatlabFramework_SampleCode_Data/Tmaze_Data/252-1375/2018-01-07_15-14-54/04_tmaze1\"\n",
    "output_dirname = \"/Users/huangjuhua/NYU/MatlabFramework_SampleCode_Data/Tmaze_Data/252-1375/2018-01-07_15-14-54/04_tmaze1/ncs_json\"\n",
    "\n",
    "# List all .ncs files\n",
    "ncs_file_list = [f for f in os.listdir(input_dirname) if f.endswith('.ncs')]\n",
    "\n",
    "# Process each .ncs file\n",
    "for ncs_file in ncs_file_list:\n",
    "    convert_ncs_to_json(ncs_file, input_dirname, output_dirname)"
   ]
  },
  {
   "cell_type": "markdown",
   "id": "097e30be",
   "metadata": {},
   "source": [
    "## Read json file example"
   ]
  },
  {
   "cell_type": "code",
   "execution_count": 3,
   "id": "dc2ee1d7",
   "metadata": {},
   "outputs": [
    {
     "name": "stdout",
     "output_type": "stream",
     "text": [
      "Feature Names: ['CellNumber', 'SampleFrequency', 'Number_of_valid_samples', 'Time_data']\n",
      "CellNumber:\n",
      "6\n",
      "SampleFrequency:\n",
      "1600.0\n",
      "Number_of_valid_samples:\n",
      "5579264\n",
      "Time_data:\n",
      "[[0.0, 84.53627014160156], [0.000625, 81.78960418701172], [0.00125, 81.05716705322266], [0.001875, 55.11642837524414], [0.0025, 41.07791519165039]]\n"
     ]
    }
   ],
   "source": [
    "import json\n",
    "\n",
    "# Specify the path to the JSON file you want to read\n",
    "json_filename = r\"/Users/huangjuhua/NYU/MatlabFramework_SampleCode_Data/Tmaze_Data/252-1375/2018-01-07_15-14-54/04_tmaze1/ncs_json/CSC6_FSI20.json\"\n",
    "\n",
    "# Read the JSON file\n",
    "with open(json_filename, 'r') as file:\n",
    "    data = json.load(file)\n",
    "\n",
    "feature_names = list(data.keys())\n",
    "print(\"Feature Names:\", feature_names)\n",
    "\n",
    "# Display the base information for each key in the JSON file\n",
    "for key, value in data.items():\n",
    "    print(f\"{key}:\")\n",
    "    if isinstance(value, list):\n",
    "        # Print only the first few items if the value is a list\n",
    "        print(value[:5])  # Modify this number based on how many examples you want to see\n",
    "    else:\n",
    "        print(value)"
   ]
  },
  {
   "cell_type": "code",
   "execution_count": 5,
   "id": "a15f9b8f",
   "metadata": {},
   "outputs": [
    {
     "name": "stdout",
     "output_type": "stream",
     "text": [
      "Feature Names: ['TSusec', 'Xpos1', 'Ypos1', 'Ang1']\n",
      "TSusec:\n",
      "[9943225717.0, 9943259852.0, 9943292453.0, 9943326137.0, 9943359888.0]\n",
      "Xpos1:\n",
      "[30.294633785905607, 29.740463655675626, 29.740463655675626, 30.294633785905607, 29.925187032418954]\n",
      "Ypos1:\n",
      "[53.38505587882147, 52.646162371848156, 52.46143899510483, 52.830885748591484, 52.646162371848156]\n",
      "Ang1:\n",
      "[162, 160, 160, 166, 159]\n"
     ]
    }
   ],
   "source": [
    "# Specify the path to the JSON file you want to read\n",
    "nvt_data = r\"/Users/huangjuhua/NYU/MatlabFramework_SampleCode_Data/Tmaze_Data/252-1375/2018-01-07_15-14-54/04_tmaze1/nvt_data.json\"\n",
    "\n",
    "# Read the JSON file\n",
    "with open(nvt_data, 'r') as file:\n",
    "    data = json.load(file)\n",
    "\n",
    "feature_names = list(data.keys())\n",
    "print(\"Feature Names:\", feature_names)\n",
    "\n",
    "# Display the base information for each key in the JSON file\n",
    "for key, value in data.items():\n",
    "    print(f\"{key}:\")\n",
    "    if isinstance(value, list):\n",
    "        # Print only the first few items if the value is a list\n",
    "        print(value[:5])  # Modify this number based on how many examples you want to see\n",
    "    else:\n",
    "        print(value)"
   ]
  },
  {
   "cell_type": "code",
   "execution_count": null,
   "id": "f713be32",
   "metadata": {},
   "outputs": [],
   "source": []
  },
  {
   "cell_type": "code",
   "execution_count": null,
   "id": "cc2ba236",
   "metadata": {},
   "outputs": [],
   "source": []
  },
  {
   "cell_type": "code",
   "execution_count": null,
   "id": "36897379",
   "metadata": {},
   "outputs": [],
   "source": []
  },
  {
   "cell_type": "code",
   "execution_count": null,
   "id": "44cf7d23",
   "metadata": {},
   "outputs": [],
   "source": []
  },
  {
   "cell_type": "code",
   "execution_count": null,
   "id": "838b2203",
   "metadata": {},
   "outputs": [],
   "source": []
  }
 ],
 "metadata": {
  "kernelspec": {
   "display_name": "Python 3 (ipykernel)",
   "language": "python",
   "name": "python3"
  },
  "language_info": {
   "codemirror_mode": {
    "name": "ipython",
    "version": 3
   },
   "file_extension": ".py",
   "mimetype": "text/x-python",
   "name": "python",
   "nbconvert_exporter": "python",
   "pygments_lexer": "ipython3",
   "version": "3.11.5"
  }
 },
 "nbformat": 4,
 "nbformat_minor": 5
}
