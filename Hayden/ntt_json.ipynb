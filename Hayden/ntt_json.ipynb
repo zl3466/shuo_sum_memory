{
 "cells": [
  {
   "cell_type": "markdown",
   "id": "89049ef5",
   "metadata": {},
   "source": [
    "# convert ntt_to_json\n",
    "\n",
    "修改地址：dirname 进行测试\n",
    "\n",
    "json Structure: \n",
    "\n",
    "{\"ScNumber\":,\n",
    "  \"CellNumber\":, \n",
    "  \"Params\":, \n",
    "   \"time_data\" : {[Timestamp, Data],[Timestamp, Data],...,[Timestamp, Data]}\n",
    "}\n",
    "\n",
    "{\"TSusec\":, \"Xpos1\":, \"Ypos1\":, \"Ang1\":}"
   ]
  },
  {
   "cell_type": "code",
   "execution_count": 3,
   "id": "11146826",
   "metadata": {},
   "outputs": [
    {
     "name": "stdout",
     "output_type": "stream",
     "text": [
      "Converted cut_TT9.ntt to /Users/huangjuhua/NYU/MatlabFramework_SampleCode_Data/Tmaze_Data/252-1375/2018-01-07_15-14-54/04_tmaze1/ntt_json/cut_TT9.json\n",
      "Converted cut_TT8.ntt to /Users/huangjuhua/NYU/MatlabFramework_SampleCode_Data/Tmaze_Data/252-1375/2018-01-07_15-14-54/04_tmaze1/ntt_json/cut_TT8.json\n",
      "Converted cut_TT10.ntt to /Users/huangjuhua/NYU/MatlabFramework_SampleCode_Data/Tmaze_Data/252-1375/2018-01-07_15-14-54/04_tmaze1/ntt_json/cut_TT10.json\n",
      "Converted cut_TT11.ntt to /Users/huangjuhua/NYU/MatlabFramework_SampleCode_Data/Tmaze_Data/252-1375/2018-01-07_15-14-54/04_tmaze1/ntt_json/cut_TT11.json\n",
      "Converted cut_TT15.ntt to /Users/huangjuhua/NYU/MatlabFramework_SampleCode_Data/Tmaze_Data/252-1375/2018-01-07_15-14-54/04_tmaze1/ntt_json/cut_TT15.json\n",
      "Converted cut_TT5.ntt to /Users/huangjuhua/NYU/MatlabFramework_SampleCode_Data/Tmaze_Data/252-1375/2018-01-07_15-14-54/04_tmaze1/ntt_json/cut_TT5.json\n",
      "Converted cut_TT6.ntt to /Users/huangjuhua/NYU/MatlabFramework_SampleCode_Data/Tmaze_Data/252-1375/2018-01-07_15-14-54/04_tmaze1/ntt_json/cut_TT6.json\n",
      "Converted cut_TT2.ntt to /Users/huangjuhua/NYU/MatlabFramework_SampleCode_Data/Tmaze_Data/252-1375/2018-01-07_15-14-54/04_tmaze1/ntt_json/cut_TT2.json\n"
     ]
    }
   ],
   "source": [
    "import os\n",
    "import re\n",
    "import json\n",
    "from neo.io import NeuralynxIO\n",
    "\n",
    "def convert_ntt_to_json(filename, input_dirname, output_dirname):\n",
    "\n",
    "    # Ensure the output directory exists\n",
    "    os.makedirs(output_dirname, exist_ok=True)\n",
    "\n",
    "    nio = NeuralynxIO(dirname=input_dirname, filename=filename)\n",
    "    block = nio.read_block()\n",
    "    for seg in block.segments:\n",
    "        tetrode_data = seg.spiketrains[0]\n",
    "        timestamps = list(tetrode_data.times.rescale('s').magnitude)  # Convert to seconds\n",
    "\n",
    "        cell_number_match = re.search(r'\\d+', filename)\n",
    "        cell_number = int(cell_number_match.group()) if cell_number_match else None\n",
    "\n",
    "        # Construct \"time_data\" as specified\n",
    "\n",
    "        data = {\n",
    "            \"CellNumber\": cell_number,\n",
    "            \"Params\": {\n",
    "                \"Sample Frequency (Hz)\": float(tetrode_data.sampling_rate.rescale('Hz').magnitude),\n",
    "                \"Number of Valid Samples\": int(tetrode_data.shape[0])\n",
    "            },\n",
    "            \"Timestamps\": timestamps\n",
    "        }\n",
    "\n",
    "        # Save to JSON file in the specified output directory\n",
    "        json_filename = os.path.splitext(os.path.join(output_dirname, filename))[0] + '.json'\n",
    "        with open(json_filename, 'w') as json_file:\n",
    "            json.dump(data, json_file, indent=4)\n",
    "        print(f\"Converted {filename} to {json_filename}\")\n",
    "\n",
    "# Example usage\n",
    "input_dirname = r\"/Users/huangjuhua/NYU/MatlabFramework_SampleCode_Data/Tmaze_Data/252-1375/2018-01-07_15-14-54/04_tmaze1\"\n",
    "output_dirname = r\"/Users/huangjuhua/NYU/MatlabFramework_SampleCode_Data/Tmaze_Data/252-1375/2018-01-07_15-14-54/04_tmaze1/ntt_json\"\n",
    "ntt_file_list = [f for f in os.listdir(input_dirname) if f.endswith('.ntt')]\n",
    "\n",
    "# Process each .NTT file\n",
    "for ntt_file in ntt_file_list:\n",
    "    convert_ntt_to_json(ntt_file, input_dirname, output_dirname)"
   ]
  },
  {
   "cell_type": "markdown",
   "id": "db5aebc9",
   "metadata": {},
   "source": [
    "## Read json file example"
   ]
  },
  {
   "cell_type": "code",
   "execution_count": 4,
   "id": "268383f1",
   "metadata": {},
   "outputs": [
    {
     "name": "stdout",
     "output_type": "stream",
     "text": [
      "Feature Names: ['CellNumber', 'Params', 'Timestamps']\n",
      "CellNumber:\n",
      "2\n",
      "Params:\n",
      "{'Sample Frequency (Hz)': 32000.0, 'Number of Valid Samples': 237220}\n",
      "Timestamps:\n",
      "[0.01143700000102399, 0.023531000000730273, 0.024406000000453787, 0.028156000000308268, 0.032906000000366475]\n"
     ]
    }
   ],
   "source": [
    "import json\n",
    "\n",
    "# Specify the path to the JSON file you want to read\n",
    "json_filename = r\"/Users/huangjuhua/NYU/MatlabFramework_SampleCode_Data/Tmaze_Data/252-1375/2018-01-07_15-14-54/04_tmaze1/ntt_json/cut_TT2.json\"\n",
    "\n",
    "# Read the JSON file\n",
    "with open(json_filename, 'r') as file:\n",
    "    data = json.load(file)\n",
    "\n",
    "feature_names = list(data.keys())\n",
    "print(\"Feature Names:\", feature_names)\n",
    "\n",
    "# Display the base information for each key in the JSON file\n",
    "for key, value in data.items():\n",
    "    print(f\"{key}:\")\n",
    "    if isinstance(value, list):\n",
    "        # Print only the first few items if the value is a list\n",
    "        print(value[:5])  # Modify this number based on how many examples you want to see\n",
    "    else:\n",
    "        print(value)"
   ]
  },
  {
   "cell_type": "code",
   "execution_count": null,
   "id": "f713be32",
   "metadata": {},
   "outputs": [],
   "source": []
  },
  {
   "cell_type": "code",
   "execution_count": null,
   "id": "cc2ba236",
   "metadata": {},
   "outputs": [],
   "source": []
  },
  {
   "cell_type": "code",
   "execution_count": null,
   "id": "36897379",
   "metadata": {},
   "outputs": [],
   "source": []
  },
  {
   "cell_type": "code",
   "execution_count": null,
   "id": "44cf7d23",
   "metadata": {},
   "outputs": [],
   "source": []
  },
  {
   "cell_type": "code",
   "execution_count": null,
   "id": "838b2203",
   "metadata": {},
   "outputs": [],
   "source": []
  }
 ],
 "metadata": {
  "kernelspec": {
   "display_name": "Python 3 (ipykernel)",
   "language": "python",
   "name": "python3"
  },
  "language_info": {
   "codemirror_mode": {
    "name": "ipython",
    "version": 3
   },
   "file_extension": ".py",
   "mimetype": "text/x-python",
   "name": "python",
   "nbconvert_exporter": "python",
   "pygments_lexer": "ipython3",
   "version": "3.11.5"
  }
 },
 "nbformat": 4,
 "nbformat_minor": 5
}
