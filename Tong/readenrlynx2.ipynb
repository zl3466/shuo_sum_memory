{
 "cells": [
  {
   "cell_type": "code",
   "execution_count": 2,
   "id": "9088969e-e740-457b-96ce-6da7d6571fc7",
   "metadata": {},
   "outputs": [
    {
     "name": "stdout",
     "output_type": "stream",
     "text": [
      "TSusec: [[9.94322572e+09]\n",
      " [9.94325985e+09]\n",
      " [9.94329245e+09]\n",
      " ...\n",
      " [1.34301299e+10]\n",
      " [1.34301625e+10]\n",
      " [1.34301964e+10]]\n",
      "Xpos1: [[30.29463379]\n",
      " [29.74046366]\n",
      " [29.74046366]\n",
      " ...\n",
      " [29.00157015]\n",
      " [30.66408054]\n",
      " [29.55574028]]\n",
      "Ypos1: [[53.38505588]\n",
      " [52.64616237]\n",
      " [52.461439  ]\n",
      " ...\n",
      " [47.47390782]\n",
      " [43.04054678]\n",
      " [46.73501432]]\n",
      "Ang1: [[162]\n",
      " [160]\n",
      " [160]\n",
      " ...\n",
      " [  7]\n",
      " [ 38]\n",
      " [ 59]]\n"
     ]
    }
   ],
   "source": [
    "import scipy.io\n",
    "\n",
    "# Load the .mat file\n",
    "mat_data = scipy.io.loadmat('outputNVT.mat')\n",
    "\n",
    "# Extract the variables\n",
    "TSusec = mat_data['TSusec']\n",
    "Xpos1 = mat_data['Xpos1']\n",
    "Ypos1 = mat_data['Ypos1']\n",
    "Ang1 = mat_data['Ang1']\n",
    "\n",
    "# Print the variables to verify\n",
    "print('TSusec:', TSusec)\n",
    "print('Xpos1:', Xpos1)\n",
    "print('Ypos1:', Ypos1)\n",
    "print('Ang1:', Ang1)"
   ]
  },
  {
   "cell_type": "code",
   "execution_count": null,
   "id": "46106940-76d6-4e01-b8bf-82fe35ee6227",
   "metadata": {},
   "outputs": [],
   "source": [
    "import json\n",
    "data_dict = {\n",
    "    'TSusec': mat_data['TSusec'].tolist(),\n",
    "    'Xpos1': mat_data['Xpos1'].tolist(),\n",
    "    'Ypos1': mat_data['Ypos1'].tolist(),\n",
    "    'Ang1': mat_data['Ang1'].tolist()\n",
    "}\n",
    "\n",
    "# Write the dictionary to a JSON file\n",
    "with open('outputnvt.json', 'w') as json_file:\n",
    "    json.dump(data_dict, json_file, indent=4)"
   ]
  },
  {
   "cell_type": "code",
   "execution_count": null,
   "id": "066260be-cff7-4de2-a8eb-9b215ec45d90",
   "metadata": {},
   "outputs": [],
   "source": [
    "with open('outputnvt.json', 'r') as json_file:\n",
    "    data_dict = json.load(json_file)\n",
    "\n",
    "# Print the contents of the dictionary to verify\n",
    "print('TSusec:', data_dict['TSusec'])\n"
   ]
  },
  {
   "cell_type": "code",
   "execution_count": null,
   "id": "788501f5-9637-49ab-962b-e8322358c13f",
   "metadata": {},
   "outputs": [],
   "source": []
  }
 ],
 "metadata": {
  "kernelspec": {
   "display_name": "Python 3 (ipykernel)",
   "language": "python",
   "name": "python3"
  },
  "language_info": {
   "codemirror_mode": {
    "name": "ipython",
    "version": 3
   },
   "file_extension": ".py",
   "mimetype": "text/x-python",
   "name": "python",
   "nbconvert_exporter": "python",
   "pygments_lexer": "ipython3",
   "version": "3.11.6"
  }
 },
 "nbformat": 4,
 "nbformat_minor": 5
}
